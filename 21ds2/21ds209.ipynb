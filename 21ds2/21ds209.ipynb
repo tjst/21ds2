{
 "cells": [
  {
   "cell_type": "markdown",
   "metadata": {},
   "source": [
    "<hr style=\"border-top: 3px double #8c8b8b;\"/>\n",
    "<br/>\n",
    "<center><font size=7 color=\"green\">データサイエンスII   第9回</font><br/>\n",
    "2021.6.8\n",
    "</center>\n",
    "<hr style=\"border-top: 3px double #8c8b8b;\"/>\n"
   ]
  },
  {
   "cell_type": "markdown",
   "metadata": {},
   "source": [
    "+ 学籍番号：\n",
    "+ 氏名：\n",
    "+ rainbow id:"
   ]
  },
  {
   "cell_type": "markdown",
   "metadata": {
    "heading_collapsed": true,
    "tags": []
   },
   "source": [
    "# 準備"
   ]
  },
  {
   "cell_type": "markdown",
   "metadata": {
    "hidden": true,
    "tags": []
   },
   "source": [
    "## ライブラリ読み込み"
   ]
  },
  {
   "cell_type": "code",
   "execution_count": null,
   "metadata": {
    "ExecuteTime": {
     "end_time": "2021-06-08T02:26:54.961251Z",
     "start_time": "2021-06-08T02:26:54.954988Z"
    },
    "hidden": true
   },
   "outputs": [],
   "source": [
    "import numpy as np\n",
    "import pandas as pd\n",
    "import plotly.express as px\n",
    "import plotly.graph_objects as go\n",
    "import scipy as sy\n",
    "\n",
    "from IPython.core.interactiveshell import InteractiveShell\n",
    "\n",
    "#InteractiveShell.ast_node_interactivity = \"all\"\n",
    "from IPython.display import display"
   ]
  },
  {
   "cell_type": "markdown",
   "metadata": {
    "hidden": true
   },
   "source": [
    "## 関数 "
   ]
  },
  {
   "cell_type": "markdown",
   "metadata": {
    "hidden": true,
    "tags": []
   },
   "source": [
    "### count_groups: データセットのグループの大きさ"
   ]
  },
  {
   "cell_type": "code",
   "execution_count": null,
   "metadata": {
    "ExecuteTime": {
     "end_time": "2021-06-08T02:27:00.464632Z",
     "start_time": "2021-06-08T02:27:00.456588Z"
    },
    "code_folding": [
     0
    ],
    "hidden": true
   },
   "outputs": [],
   "source": [
    "def count_groups(df,groups,as_index=True):\n",
    "    temp=df.groupby(groups,as_index=as_index).count()\n",
    "    xlen=len(groups)\n",
    "    if as_index:\n",
    "        temp1=temp.iloc[:,[0]]\n",
    "        temp1.columns=[\"個数\"]\n",
    "    else:\n",
    "        temp1=temp.iloc[:,range(xlen+1)]\n",
    "        temp1.columns=groups+[\"個数\"]\n",
    "    return temp1"
   ]
  },
  {
   "cell_type": "markdown",
   "metadata": {
    "hidden": true
   },
   "source": [
    "### 一変数最小値探索"
   ]
  },
  {
   "cell_type": "code",
   "execution_count": null,
   "metadata": {
    "ExecuteTime": {
     "end_time": "2021-06-08T02:27:01.870237Z",
     "start_time": "2021-06-08T02:27:01.861975Z"
    },
    "code_folding": [
     0
    ],
    "hidden": true
   },
   "outputs": [],
   "source": [
    "def minimize_simple(f,bounds=[-10,10],ndiv=100):\n",
    "    import numpy as np\n",
    "    a,b=bounds\n",
    "    L=np.linspace(a,b,ndiv)\n",
    "    fmin=f(a)\n",
    "    xmin=a\n",
    "    for t in L[1:]:\n",
    "        if f(t)<fmin:\n",
    "            fmin=f(t)\n",
    "            xmin=t\n",
    "    return xmin,fmin\n",
    "        \n",
    "    "
   ]
  },
  {
   "cell_type": "markdown",
   "metadata": {
    "hidden": true
   },
   "source": [
    "### 探索関数 searchn"
   ]
  },
  {
   "cell_type": "code",
   "execution_count": null,
   "metadata": {
    "ExecuteTime": {
     "end_time": "2021-06-08T02:27:03.463208Z",
     "start_time": "2021-06-08T02:27:03.425062Z"
    },
    "code_folding": [
     0,
     13,
     42,
     67,
     76,
     85
    ],
    "hidden": true
   },
   "outputs": [],
   "source": [
    "def inbounds(x,bounds):\n",
    "    \"\"\" bounds[i][0]<= x[i] <= bounds[i][1] の時 True\n",
    "    \"\"\"\n",
    "    N=len(x)\n",
    "    if len(bounds)!=N:\n",
    "        return False\n",
    "    else:\n",
    "        for i in range(N):\n",
    "                min,max=bounds[i]\n",
    "                if min>x[i] or max < x[i]:\n",
    "                    return False\n",
    "        return True\n",
    "\n",
    "def searchnbd2(f,x,nbds,epsilon,bounds):\n",
    "    \"\"\"  ランダム方向探索\n",
    "    ランダムな回転gを選び、min { f(k g@v) | u ∈ nbds, -100<k<200, kg@v ∈ bounds} を与える点をy とし、\n",
    "    f(y) < f(x ) の時は y を返し、f(y)=f(x)の時は [] を返す.\n",
    "    \"\"\"\n",
    "    from scipy.stats import special_ortho_group\n",
    "    if len(x)>1:\n",
    "        g=special_ortho_group(dim=len(x)).rvs()\n",
    "        gnbds=[g@u for u in nbds]\n",
    "    else:\n",
    "        gnbds=nbds\n",
    "    fmin=f(x)  \n",
    "    fmin0=fmin\n",
    "    x1=x\n",
    "    for gu in gnbds:\n",
    "        for t in np.arange(-10,10):\n",
    "            if debug:\n",
    "#                val=f(x+t*epsilon*gu)                \n",
    "                print(\"t={},epsilon={},gu={},x+t*epsilon*gu={},fmin0={},val={}\".format(t,epsilon,gu,x+t*epsilon*gu,fmin0,f(x+t*epsilon*gu)))\n",
    "            if inbounds(x+t*epsilon*gu,bounds):\n",
    "                val=f(x+t*epsilon*gu)\n",
    "                if val<fmin0:\n",
    "                    fmin0=val\n",
    "                    x1=x+t*epsilon*gu\n",
    "            \n",
    "    if fmin0<fmin:\n",
    "        return x1\n",
    "    else:\n",
    "        return []\n",
    "def searchnbd1(f,x,nbds,epsilon,bounds):\n",
    "    \"\"\"  ランダム方向探索\n",
    "    ランダムな回転gを選び、min { f(k g@v) | u ∈ nbds, -100<k<200, kg@v ∈ bounds} を与える点をy とし、\n",
    "    f(y) < f(x ) の時は y を返し、f(y)=f(x)の時は [] を返す.\n",
    "    \"\"\"\n",
    "    gnbds=nbds\n",
    "    fmin=f(x)  \n",
    "    fmin0=fmin\n",
    "    x1=x\n",
    "    for gu in gnbds:\n",
    "        for t in np.arange(-10,10):\n",
    "            if debug:\n",
    "#                val=f(x+t*epsilon*gu)                \n",
    "                print(\"t={},epsilon={},gu={},x+t*epsilon*gu={},fmin0={},val={}\".format(t,epsilon,gu,x+t*epsilon*gu,fmin0,f(x+t*epsilon*gu)))\n",
    "            if inbounds(x+t*epsilon*gu,bounds):\n",
    "                val=f(x+t*epsilon*gu)\n",
    "                if val<fmin0:\n",
    "                    fmin0=val\n",
    "                    x1=x+t*epsilon*gu\n",
    "            \n",
    "    if fmin0<fmin:\n",
    "        return x1\n",
    "    else:\n",
    "        return []\n",
    "\n",
    "def showlist(x,format):\n",
    "        str=\"\"\n",
    "        count=0\n",
    "        for u in x:\n",
    "            if count>0:\n",
    "                str+=\" ,\"\n",
    "            str+=format\n",
    "        return str.format()\n",
    "\n",
    "def unit_vector(k,i):\n",
    "    import numpy as np\n",
    "    if i<0 or k<=i:\n",
    "        return unit_vector(k,0)\n",
    "    else:\n",
    "        u=np.zeros(k)\n",
    "        u[i]=1\n",
    "    return u\n",
    "\n",
    "def searchn(f,n,nbds=[],init=[],fmin=-10000000.0,bounds=[],epsilon=1,epsilon_min=0.00000001,K=20,\\\n",
    "            showsteps=True,Ndir=1,xformat=\"{:7.5f}\",xformat2=\"{:11.10f}\",jumpProb=0.1):\n",
    "    \"\"\" searchn n変数関数の最小値を、ランダム方向に探索する\n",
    "    f: 目的関数, n: 目的関数の変数の数, nbds=[] :探索方向のリスト, init=[]: 初期探索点\n",
    "    epsilon=1: 初期の探索幅, epsilon_min=0.00000001(10^-8)\n",
    "    bounds=[]: 探索範囲\n",
    "    K=20: 探索回数上限、showteps=True 途中経過表示、Ndir=1: ランダム方向の探索数上限\n",
    "    \"\"\"\n",
    "    from random import randint\n",
    "    if debug:\n",
    "        print(\"f([0])=\",f([0]))\n",
    "    if len(nbds)==0:\n",
    "        nbds=[]\n",
    "        for i in range(n):\n",
    "            nbds.append(unit_vector(n,i))\n",
    "    if len(init)==0:\n",
    "        init=np.array( [np.random.random() for i in range(n)])\n",
    "    x=init\n",
    "    history=[x]\n",
    "    history_epsilon=[epsilon]\n",
    "    count=0\n",
    "    xmin=f(init)\n",
    "    ntrial=0\n",
    "    ntotal=0\n",
    "    if showsteps:\n",
    "        print(\"epsilon={},epsilon_min={},count={},K={}\".format(epsilon,epsilon_min,count,K))\n",
    "    if debug:\n",
    "        print(\"epsilon={},epsilon_min={},count={},K={},x={},f(x)={},fmin={}\".format(epsilon,epsilon_min,count,K,x,f(x),fmin))\n",
    "    while epsilon>epsilon_min and count<K and f(x)>fmin:        \n",
    "        import random\n",
    "        if random.random()<jumpProb :\n",
    "            epsilon1=1\n",
    "        else:\n",
    "            epsilon1=epsilon\n",
    "        temp=searchnbd2(f,x,nbds,epsilon1,bounds)\n",
    "        if showsteps:\n",
    "            print(\"2：temp={},count={},epsilon={}\".format(temp,count,epsilon))\n",
    "        if len(temp)==0:\n",
    "            if ntrial>=Ndir:\n",
    "                epsilon*=0.1\n",
    "                ntrial=0\n",
    "            else:\n",
    "                ntrial+=1\n",
    "        else:\n",
    "            ntrial=0\n",
    "            x=temp\n",
    "            epsilon=epsilon1\n",
    "            history.append(x)\n",
    "            history_epsilon.append(epsilon)\n",
    "            count+=1\n",
    "            if showsteps:\n",
    "                print(\"\\n減少\",count)\n",
    "                temp=0\n",
    "                for u in x:\n",
    "                    if temp>0:\n",
    "                        print(\",  \",end=\"\",sep=\"\")\n",
    "                    print(\"x[{:1d}]=\".format(temp),end=\"\",sep=\"\")\n",
    "                    temp+=1\n",
    "                    print(xformat.format(u),end=\"\",sep=\"\")\n",
    "                print(\"\\nf = \"+xformat2.format(f(x)),\"\\n epsilon ={:10.11f}\".format(epsilon))\n",
    "    return x,f(x),epsilon,count,history_epsilon,history "
   ]
  },
  {
   "cell_type": "markdown",
   "metadata": {
    "hidden": true
   },
   "source": [
    "### 混同行列 confusion_matrix "
   ]
  },
  {
   "cell_type": "markdown",
   "metadata": {
    "hidden": true
   },
   "source": [
    "+ u によりOKとされたとき1,そうでないとき0とするコラムを作成"
   ]
  },
  {
   "cell_type": "code",
   "execution_count": null,
   "metadata": {
    "ExecuteTime": {
     "end_time": "2021-06-08T02:27:07.959370Z",
     "start_time": "2021-06-08T02:27:07.948821Z"
    },
    "code_folding": [
     0,
     3
    ],
    "hidden": true
   },
   "outputs": [],
   "source": [
    "def getvalues(df,x):\n",
    "    return np.unique(df[x].values)\n",
    "\n",
    "def confusion_matrix(df):\n",
    "    idvalues=getvalues(df,\"id\")\n",
    "    temp=[[ len(df[np.all([df.id==xid,df.hantei==h],axis=0)])  for h in [1,0]] for xid in idvalues]\n",
    "    table=pd.DataFrame(temp,columns=[\"Y\",\"N\"])\n",
    "    table[\"all\"]=table.Y+table.N\n",
    "    tableT=table.T\n",
    "    tableT[\"total\"]=tableT.apply(sum,axis=1)\n",
    "    return tableT.T"
   ]
  },
  {
   "cell_type": "markdown",
   "metadata": {
    "hidden": true
   },
   "source": [
    "### 菖データ定義関数 mk_ayame"
   ]
  },
  {
   "cell_type": "code",
   "execution_count": null,
   "metadata": {
    "ExecuteTime": {
     "end_time": "2021-06-08T02:27:10.083299Z",
     "start_time": "2021-06-08T02:27:10.073918Z"
    },
    "hidden": true
   },
   "outputs": [],
   "source": [
    "def mk_ayame():\n",
    "    import plotly.express as px\n",
    "    df = px.data.iris()\n",
    "    df.columns=[\"花弁長\",\"花弁幅\",\"萼長\",\"萼幅\",\"種名\",\"id\"]\n",
    "    return df\n",
    "\n",
    "#クラスiのみ\"1\"他は\"0\"とする\n",
    "def mk_ayame1(i):\n",
    "    import plotly.express as px\n",
    "    df = px.data.iris()\n",
    "    df.columns=[\"花弁長\",\"花弁幅\",\"萼長\",\"萼幅\",\"種名\",\"id0\"]\n",
    "    df[\"id\"]=df.apply(lambda x: \"1\" if x.id0==i else \"0\",axis=1)\n",
    "    return df"
   ]
  },
  {
   "cell_type": "markdown",
   "metadata": {
    "heading_collapsed": true
   },
   "source": [
    "# ２平面での分類"
   ]
  },
  {
   "cell_type": "markdown",
   "metadata": {
    "hidden": true
   },
   "source": [
    "## 方針"
   ]
  },
  {
   "cell_type": "markdown",
   "metadata": {
    "hidden": true
   },
   "source": [
    "+  $g_c>0$ and $h_d>0$で id=1 を判定\n",
    "  失点は \n",
    "     id(x)=1 のときは、$H(-g(x))+H(-h(x))$\n",
    "     $id(x)\\neq1$ のときは、 g(x)>0 かつ h(x)>0 のときエラー\n",
    "\n",
    "\n",
    "   $loss(x,g,h)= \\sum_{id(x)=1,g(x)<0 \\lor h(x)<0}H(-g(x))+H(-h(x))+\\sum_{id(x)\\neq 1,g(x)>0, h(x)>0} (g(x)+h(x))$  \n",
    "\n",
    "  `loss(df,g,h)=np.sum(df.apply(lambda x: loss(x,g,h)))`"
   ]
  },
  {
   "cell_type": "code",
   "execution_count": null,
   "metadata": {
    "ExecuteTime": {
     "end_time": "2021-06-08T02:58:19.118958Z",
     "start_time": "2021-06-08T02:58:19.102681Z"
    },
    "code_folding": [
     9
    ],
    "hidden": true
   },
   "outputs": [],
   "source": [
    "def ff(coeff,X):\n",
    "    X=np.array(X)\n",
    "    coeff=np.array(coeff)\n",
    "    n=len(X)\n",
    "    return X@coeff[:n]+coeff[-1] \n",
    "    \n",
    "\n",
    "H=lambda x:x if x>0 else 0\n",
    "    # X=[x,y],coeff=[a,b,c]\n",
    "def loss21(X,xid,c):\n",
    "    n=len(c)//2\n",
    "    c1=c[:n]\n",
    "    c2=c[n:]\n",
    "    v1=ff(c1,X)\n",
    "    v2=ff(c2,X)\n",
    "    if xid==\"1\":\n",
    "         return H(-v1)+H(-v2)\n",
    "    elif xid!=\"1\" and v1>0 and v2>0:\n",
    "         return v1+v2\n",
    "    else:\n",
    "        return 0\n",
    "\n",
    "def loss2(dfD,coeff,C):\n",
    "    n=len(coeff)//2-1 \n",
    "    lossA=np.sum(dfD.apply(lambda d : loss21(d[:n], d.id, coeff),axis=1))\n",
    "    return lossA +C*((np.sum(np.array(coeff[:n])**2)-1)**2+(np.sum(np.array(coeff[n:])**2)-1)**2)"
   ]
  },
  {
   "cell_type": "markdown",
   "metadata": {
    "heading_collapsed": true,
    "hidden": true
   },
   "source": [
    "## 平面データの例"
   ]
  },
  {
   "cell_type": "markdown",
   "metadata": {
    "hidden": true
   },
   "source": [
    "### データ定義"
   ]
  },
  {
   "cell_type": "code",
   "execution_count": null,
   "metadata": {
    "ExecuteTime": {
     "end_time": "2021-06-08T02:58:21.319581Z",
     "start_time": "2021-06-08T02:58:21.262945Z"
    },
    "hidden": true
   },
   "outputs": [],
   "source": [
    "dfD91=pd.DataFrame(np.array([2*np.random.random()-1 for i in range(2000)]).reshape(1000,2),columns=[\"x\",\"y\"])\n",
    "\n",
    "dfD91[\"id\"]=dfD91.apply(lambda x: \"1\" if (2*x.x+3*x.y+1>0.2) and (x.x-x.y>-1) else \"0\" ,axis=1)\n",
    "\n",
    "#dfD80=dfD80[dfD80.id!=\"0\"]\n",
    "dfD91.to_csv(\"dfD91.csv\")"
   ]
  },
  {
   "cell_type": "code",
   "execution_count": null,
   "metadata": {
    "ExecuteTime": {
     "end_time": "2021-06-08T02:58:23.994005Z",
     "start_time": "2021-06-08T02:58:23.922846Z"
    },
    "hidden": true,
    "tags": []
   },
   "outputs": [],
   "source": [
    "fig=px.scatter(dfD91,x=\"x\",y=\"y\",color=\"id\")\n",
    "fig.update_yaxes(scaleanchor=\"x\", scaleratio=1)\n",
    "fig.update_layout(width=500)"
   ]
  },
  {
   "cell_type": "code",
   "execution_count": null,
   "metadata": {
    "ExecuteTime": {
     "end_time": "2021-06-08T02:58:26.797919Z",
     "start_time": "2021-06-08T02:58:26.709054Z"
    },
    "hidden": true
   },
   "outputs": [],
   "source": [
    "print(\"dfD91 の x+y+1,x-y-1 に関する失点は\", loss2(dfD91,[1,1,1,-1,-1,1,1],10))"
   ]
  },
  {
   "cell_type": "markdown",
   "metadata": {
    "hidden": true
   },
   "source": [
    "### 探索"
   ]
  },
  {
   "cell_type": "code",
   "execution_count": null,
   "metadata": {
    "ExecuteTime": {
     "end_time": "2021-06-08T03:06:46.619539Z",
     "start_time": "2021-06-08T03:04:52.270391Z"
    },
    "hidden": true,
    "jupyter": {
     "outputs_hidden": true
    }
   },
   "outputs": [],
   "source": [
    "debug=False\n",
    "bounds=[[-1,1],[-1,1],[-1,1],[-1,1],[-1,1],[-1,1]]\n",
    "result=searchn(lambda u: loss2(dfD91,u,30),6,fmin=0,bounds=bounds,showsteps=True,epsilon=1,K=20,jumpProb=0.1)"
   ]
  },
  {
   "cell_type": "code",
   "execution_count": null,
   "metadata": {
    "ExecuteTime": {
     "end_time": "2021-06-08T03:00:46.208431Z",
     "start_time": "2021-06-08T03:00:46.199452Z"
    },
    "hidden": true
   },
   "outputs": [],
   "source": [
    "coeff=np.array(result[0]).reshape(2,3)\n",
    "coeff"
   ]
  },
  {
   "cell_type": "code",
   "execution_count": null,
   "metadata": {
    "ExecuteTime": {
     "end_time": "2021-06-08T03:02:08.337499Z",
     "start_time": "2021-06-08T03:02:08.244552Z"
    },
    "hidden": true
   },
   "outputs": [],
   "source": [
    "dfD91[\"hantei\"]=dfD91.apply(lambda x: 1 if ff(coeff[0],x[:2])>0 and ff(coeff[1],x[:2]) else 0, axis=1)"
   ]
  },
  {
   "cell_type": "code",
   "execution_count": null,
   "metadata": {
    "ExecuteTime": {
     "end_time": "2021-06-08T03:02:11.441201Z",
     "start_time": "2021-06-08T03:02:11.417071Z"
    },
    "hidden": true
   },
   "outputs": [],
   "source": [
    "confusion_matrix(dfD91)"
   ]
  },
  {
   "cell_type": "markdown",
   "metadata": {
    "hidden": true
   },
   "source": [
    "### 図示"
   ]
  },
  {
   "cell_type": "code",
   "execution_count": null,
   "metadata": {
    "ExecuteTime": {
     "end_time": "2021-06-08T03:03:05.533781Z",
     "start_time": "2021-06-08T03:03:05.459554Z"
    },
    "hidden": true,
    "jupyter": {
     "outputs_hidden": true
    }
   },
   "outputs": [],
   "source": [
    "fig=px.scatter(dfD91,x=\"x\",y=\"y\",color=\"id\")\n",
    "fig.update_yaxes(scaleanchor=\"x\", scaleratio=1)\n",
    "fig.update_layout(width=500)\n",
    "t=np.linspace(-1,1)\n",
    "counter=0\n",
    "coeff_list=np.array(result[0]).reshape(2,3)\n",
    "for coeff in coeff_list:\n",
    "    a,b,c=coeff\n",
    "    fig.add_scatter(x=t,y=-(a*t+c)/b,name=counter)\n",
    "    counter+=1\n",
    "fig.show()\n",
    "    "
   ]
  },
  {
   "cell_type": "markdown",
   "metadata": {
    "hidden": true
   },
   "source": [
    "### 探索経過"
   ]
  },
  {
   "cell_type": "code",
   "execution_count": null,
   "metadata": {
    "ExecuteTime": {
     "end_time": "2021-06-08T03:03:24.967190Z",
     "start_time": "2021-06-08T03:03:23.968192Z"
    },
    "hidden": true,
    "jupyter": {
     "outputs_hidden": true
    },
    "scrolled": false
   },
   "outputs": [],
   "source": [
    "t=np.linspace(-1,1)\n",
    "counter=0\n",
    "for coeff in result[-1]:\n",
    "    fig=px.scatter(dfD91,x=\"x\",y=\"y\",color=\"id\")\n",
    "#     fig.add_scatter(x=dfD91.x,y=dfD91.y,mode=\"markers\",opacity=0.6)\n",
    "#     fig.add_scatter(x=dfD91.x,y=dfD91.y,mode=\"markers\",opacity=0.3)\n",
    "    fig.update_yaxes(scaleanchor=\"x\", scaleratio=1)\n",
    "    fig.update_layout(width=500)\n",
    "    coeff=np.array(coeff).reshape(2,3)\n",
    "    for cff in coeff:\n",
    "        a,b,c=cff\n",
    "        fig.add_scatter(x=t,y=-(a*t+c)/b,name=counter)\n",
    "        counter+=1\n",
    "    fig.show()\n",
    "    "
   ]
  },
  {
   "cell_type": "markdown",
   "metadata": {
    "heading_collapsed": true,
    "hidden": true
   },
   "source": [
    "## 菖の第２類の分類への適用"
   ]
  },
  {
   "cell_type": "code",
   "execution_count": null,
   "metadata": {
    "ExecuteTime": {
     "end_time": "2021-06-08T00:04:40.558635Z",
     "start_time": "2021-06-08T00:04:40.533677Z"
    },
    "hidden": true,
    "scrolled": true
   },
   "outputs": [],
   "source": [
    "dfA=mk_ayame1(2)\n",
    "count_groups(dfA,[\"id\",\"id0\"])"
   ]
  },
  {
   "cell_type": "markdown",
   "metadata": {
    "hidden": true
   },
   "source": [
    "### searchnでの探索"
   ]
  },
  {
   "cell_type": "code",
   "execution_count": null,
   "metadata": {
    "ExecuteTime": {
     "end_time": "2021-06-08T00:14:19.462009Z",
     "start_time": "2021-06-08T00:13:32.325727Z"
    },
    "hidden": true,
    "jupyter": {
     "outputs_hidden": true
    },
    "scrolled": false
   },
   "outputs": [],
   "source": [
    "debug=False\n",
    "bounds=5*np.array([[-1,1],[-1,1],[-1,1],[-1,1],[-1,1],[-1,1],[-1,1],[-1,1],[-1,1],[-1,1]])\n",
    "result=searchn(lambda u: loss2(dfA,u,10),10,fmin=0,bounds=bounds,showsteps=True,epsilon=1,K=20,jumpProb=0.1)"
   ]
  },
  {
   "cell_type": "code",
   "execution_count": null,
   "metadata": {
    "ExecuteTime": {
     "end_time": "2021-06-08T00:14:33.255184Z",
     "start_time": "2021-06-08T00:14:33.246832Z"
    },
    "hidden": true
   },
   "outputs": [],
   "source": [
    "coeff=np.array(result[0]).reshape(2,5)\n",
    "coeff"
   ]
  },
  {
   "cell_type": "code",
   "execution_count": null,
   "metadata": {
    "ExecuteTime": {
     "end_time": "2021-06-08T00:14:35.486372Z",
     "start_time": "2021-06-08T00:14:35.444331Z"
    },
    "hidden": true,
    "scrolled": true
   },
   "outputs": [],
   "source": [
    "dfA[\"hantei\"]=dfA.apply(lambda x: 1 if ff(coeff[0],x[:4])>0  and ff(coeff[1],x[:4])>0 else 0 ,  axis=1)\n",
    "confusion_matrix(dfA)"
   ]
  },
  {
   "cell_type": "code",
   "execution_count": null,
   "metadata": {
    "ExecuteTime": {
     "end_time": "2021-06-08T00:14:41.814878Z",
     "start_time": "2021-06-08T00:14:41.797097Z"
    },
    "hidden": true,
    "scrolled": true
   },
   "outputs": [],
   "source": [
    "count_groups(dfA,[\"id\",\"hantei\"])"
   ]
  },
  {
   "cell_type": "markdown",
   "metadata": {
    "hidden": true
   },
   "source": [
    "### dual_anealing での探索"
   ]
  },
  {
   "cell_type": "code",
   "execution_count": null,
   "metadata": {
    "ExecuteTime": {
     "end_time": "2021-06-08T00:18:25.129506Z",
     "start_time": "2021-06-08T00:15:08.810263Z"
    },
    "hidden": true,
    "scrolled": true
   },
   "outputs": [],
   "source": [
    "from scipy.optimize import dual_annealing\n",
    "bounds=10*np.array([[-1,1],[-1,1],[-1,1],[-1,1],[-1,1],[-1,1],[-1,1],[-1,1],[-1,1],[-1,1]])\n",
    "result=dual_annealing(lambda u: loss2(dfA,u,10),bounds=bounds)\n",
    "result"
   ]
  },
  {
   "cell_type": "code",
   "execution_count": null,
   "metadata": {
    "ExecuteTime": {
     "end_time": "2021-06-08T00:12:14.126144Z",
     "start_time": "2021-06-08T00:12:14.117770Z"
    },
    "hidden": true
   },
   "outputs": [],
   "source": [
    "coeff=result.x.reshape(2,5)\n",
    "coeff"
   ]
  },
  {
   "cell_type": "code",
   "execution_count": null,
   "metadata": {
    "ExecuteTime": {
     "end_time": "2021-06-08T00:23:20.146457Z",
     "start_time": "2021-06-08T00:23:20.107121Z"
    },
    "hidden": true,
    "scrolled": true
   },
   "outputs": [],
   "source": [
    "dfA[\"hantei\"]=dfA.apply(lambda x: 1 if ff(coeff[0],x[:4])>0  and ff(coeff[1],x[:4])>0 else 0 ,  axis=1)\n",
    "confusion_matrix(dfA)"
   ]
  },
  {
   "cell_type": "code",
   "execution_count": null,
   "metadata": {
    "ExecuteTime": {
     "end_time": "2021-06-08T00:23:22.519191Z",
     "start_time": "2021-06-08T00:23:22.502636Z"
    },
    "hidden": true,
    "scrolled": true
   },
   "outputs": [],
   "source": [
    "count_groups(dfA,[\"id\",\"hantei\"])"
   ]
  },
  {
   "cell_type": "markdown",
   "metadata": {
    "heading_collapsed": true
   },
   "source": [
    "# エントロピー"
   ]
  },
  {
   "cell_type": "markdown",
   "metadata": {
    "heading_collapsed": true,
    "hidden": true,
    "toc-hr-collapsed": true
   },
   "source": [
    "## エントロピーの基本概念\n"
   ]
  },
  {
   "cell_type": "markdown",
   "metadata": {
    "hidden": true
   },
   "source": [
    "+ あるデータがとりうる値が$N$個あるとき、そのデータ値を確定する情報は、$N$個の「曖昧さ」をなくしたことになる。したがって、その情報の大きさは$N$ということができる。\n",
    "$N$個の値を取り得るデータ$x,y$の値を確定する情報は、$N^2$個の曖昧さをなくしたことになり、情報の大きさは$N^2$ということができる。\n",
    "$N$について単調増大な関数$f$を使って$f(N)$で情報量は量っても大小関係は変わらない。通常$\\log N$を情報量とする。このとき、$x,y$のデータの情報量は$x$の情報量と$y$の情報量の和となる、という便利さがある。\n",
    "+ $x$のデータ値がわかることで得られる情報量は、それが得られる前に$x$がもっていた「不定性」「曖昧さ」の度合いを表す。この不定度をエントロピーと呼ぶ。\n",
    "すなわち可能性が$N$通りある状況について$\\log_2 N$ をそのエントロピーと呼ぶ。\n",
    "\n"
   ]
  },
  {
   "cell_type": "code",
   "execution_count": null,
   "metadata": {
    "ExecuteTime": {
     "end_time": "2021-06-08T02:29:59.089151Z",
     "start_time": "2021-06-08T02:29:59.084659Z"
    },
    "hidden": true
   },
   "outputs": [],
   "source": [
    "entropy_temp= lambda N:np.log2(N)"
   ]
  },
  {
   "cell_type": "code",
   "execution_count": null,
   "metadata": {
    "ExecuteTime": {
     "end_time": "2021-06-08T02:30:02.016947Z",
     "start_time": "2021-06-08T02:30:01.993784Z"
    },
    "hidden": true
   },
   "outputs": [],
   "source": [
    "t=range(1,100)\n",
    "temp=pd.DataFrame(np.array([t,entropy_temp(t)]).T,columns=[\"可能性数\",\"エントロピー\"])\n",
    "temp[\"可能性数\"]=temp[\"可能性数\"].astype(int)\n",
    "temp.set_index(\"可能性数\")\n",
    "temp[:20].set_index(\"可能性数\")"
   ]
  },
  {
   "cell_type": "code",
   "execution_count": null,
   "metadata": {
    "ExecuteTime": {
     "end_time": "2021-06-08T02:30:10.655088Z",
     "start_time": "2021-06-08T02:30:10.591466Z"
    },
    "hidden": true
   },
   "outputs": [],
   "source": [
    "fig=px.scatter(temp,x=\"可能性数\",y=\"エントロピー\")\n",
    "fig.add_scatter(x=temp[\"可能性数\"],y=temp[\"エントロピー\"])"
   ]
  },
  {
   "cell_type": "markdown",
   "metadata": {
    "heading_collapsed": true,
    "hidden": true
   },
   "source": [
    "## 基本関数の定義"
   ]
  },
  {
   "cell_type": "code",
   "execution_count": null,
   "metadata": {
    "ExecuteTime": {
     "end_time": "2021-06-08T00:23:51.200703Z",
     "start_time": "2021-06-08T00:23:51.173563Z"
    },
    "code_folding": [],
    "hidden": true,
    "tags": []
   },
   "outputs": [],
   "source": [
    "def entropy0(H):\n",
    "    import numpy as np\n",
    "    from numpy import log2\n",
    "    H=np.array(H).flatten()\n",
    "    return -(np.sum([p*log2(p) for p in H if p>0]))\n",
    "\n",
    "def entropy(H):\n",
    "    import numpy as np\n",
    "    from numpy import array,sum\n",
    "    H=array(H).flatten()\n",
    "    pH=H/sum(H)\n",
    "    return entropy0(pH)"
   ]
  },
  {
   "cell_type": "code",
   "execution_count": null,
   "metadata": {
    "ExecuteTime": {
     "end_time": "2021-06-08T02:31:52.266689Z",
     "start_time": "2021-06-08T02:31:52.259149Z"
    },
    "hidden": true
   },
   "outputs": [],
   "source": [
    "entropy([1,10])"
   ]
  },
  {
   "cell_type": "code",
   "execution_count": null,
   "metadata": {
    "ExecuteTime": {
     "end_time": "2021-06-08T02:33:11.013231Z",
     "start_time": "2021-06-08T02:33:10.984043Z"
    },
    "code_folding": [],
    "hidden": true,
    "tags": []
   },
   "outputs": [],
   "source": [
    "def entropyMarginal1(H):\n",
    "    import numpy as np\n",
    "    from numpy import array,sum\n",
    "\n",
    "    H=array(H)\n",
    "    H1=[sum(p) for p in H] \n",
    "    return entropy(H1)\n",
    "\n",
    "def entropyMarginal2(H):\n",
    "    import numpy as np\n",
    "    H=np.array(H)\n",
    "    return entropyMarginal1(H.T)\n",
    "\n",
    "\n",
    "def showtable(H):\n",
    "    import pandas as pd\n",
    "    df=pd.DataFrame(H)\n",
    "    df[\"計\"]=df.apply(sum,axis=1)\n",
    "    dfT=df.T\n",
    "    dfT[\"計\"]=dfT.apply(sum,axis=1)\n",
    "    return dfT.T\n",
    "\n",
    "def CondProb1to2(H):\n",
    "    import pandas as pd\n",
    "    df=pd.DataFrame(H)\n",
    "    df[\"total\"]=df.apply(sum,axis=1)\n",
    "    df=df.apply(lambda x: x/x.total,axis=1).drop(\"total\",axis=1)\n",
    "    return df\n",
    "    \n",
    "def CondProb2to1(H):\n",
    "    import numpy as np\n",
    "    return CondProb1to2(np.array(H).T).T\n",
    "\n",
    "\n",
    "def muinfo(H):\n",
    "    import numpy as np\n",
    "    H=np.array(H)\n",
    "    H1=[np.sum(p) for p in H] \n",
    "    H2=[np.sum(p) for p in H.T]\n",
    "    return entropy(H1)+entropy(H2)-entropy(H)\n",
    "\n",
    "def condEntropy1to2_kobetsu(H,y):\n",
    "    H=np.array(H)\n",
    "    return entropy(H[y])\n",
    "\n",
    "def condEntropy2to1_kobetsu(H,y):\n",
    "    return condEntropy1to2_kobetsu(H.T,y)\n",
    "\n",
    "def condEntropy1to2(H):\n",
    "    H1=[np.sum(p) for p in H]\n",
    "    return entropy(H)-entropy(H1)\n",
    "   \n",
    "def condEntropy2to1(H):\n",
    "    H=np.array(H).T\n",
    "    return condEntropy1to2(H)\n",
    "\n",
    "def showentropy(H):\n",
    "    import numpy as np\n",
    "    H=np.array(H)\n",
    "    display(showtable(H))\n",
    "    HX=[np.sum(p) for p in H] \n",
    "    HY=[np.sum(p) for p in H.T]\n",
    "    print(\"H(V,X)={:3.2f}\".format(entropy(H)))\n",
    "    print(\"H(V)={:3.2f}\".format(entropyMarginal1(H)))\n",
    "    print(\"H(X)={:3.2f}\".format(entropyMarginal2(H)))\n",
    "    print(\"I(V,X)={:3.2f}\".format(muinfo(H)))\n",
    "    print(\"H(V | X)={:3.2f}\".format(condEntropy2to1(H)))\n",
    "    print(\"H(V | X)/H(V)={:3.2f}\".format(condEntropy2to1(H)/entropyMarginal1(H)))"
   ]
  },
  {
   "cell_type": "markdown",
   "metadata": {
    "heading_collapsed": true,
    "hidden": true,
    "toc-hr-collapsed": true
   },
   "source": [
    "## 同時分布のエントロピー諸量例"
   ]
  },
  {
   "cell_type": "markdown",
   "metadata": {
    "hidden": true,
    "tags": []
   },
   "source": [
    "### 例"
   ]
  },
  {
   "cell_type": "code",
   "execution_count": null,
   "metadata": {
    "ExecuteTime": {
     "end_time": "2021-06-08T02:33:16.225527Z",
     "start_time": "2021-06-08T02:33:16.202333Z"
    },
    "hidden": true
   },
   "outputs": [],
   "source": [
    "H=np.array([[1,0],[0,1]])\n",
    "showentropy(H)\n"
   ]
  },
  {
   "cell_type": "code",
   "execution_count": null,
   "metadata": {
    "ExecuteTime": {
     "end_time": "2021-06-08T02:34:24.886359Z",
     "start_time": "2021-06-08T02:34:24.855390Z"
    },
    "hidden": true
   },
   "outputs": [],
   "source": [
    "display(CondProb1to2(H),CondProb2to1(H))"
   ]
  },
  {
   "cell_type": "markdown",
   "metadata": {
    "hidden": true,
    "tags": []
   },
   "source": [
    "### 例"
   ]
  },
  {
   "cell_type": "code",
   "execution_count": null,
   "metadata": {
    "ExecuteTime": {
     "end_time": "2021-06-08T02:34:31.177090Z",
     "start_time": "2021-06-08T02:34:31.152493Z"
    },
    "hidden": true,
    "scrolled": true,
    "tags": []
   },
   "outputs": [],
   "source": [
    "H=np.array([[1,1],[0,1]])\n",
    "showentropy(H)\n"
   ]
  },
  {
   "cell_type": "code",
   "execution_count": null,
   "metadata": {
    "ExecuteTime": {
     "end_time": "2021-06-08T02:34:24.886359Z",
     "start_time": "2021-06-08T02:34:24.855390Z"
    },
    "hidden": true
   },
   "outputs": [],
   "source": [
    "display(CondProb1to2(H),CondProb2to1(H))"
   ]
  },
  {
   "cell_type": "markdown",
   "metadata": {
    "hidden": true
   },
   "source": [
    "### 例"
   ]
  },
  {
   "cell_type": "code",
   "execution_count": null,
   "metadata": {
    "ExecuteTime": {
     "end_time": "2021-06-08T02:35:47.762016Z",
     "start_time": "2021-06-08T02:35:47.723838Z"
    },
    "hidden": true
   },
   "outputs": [],
   "source": [
    "H=np.array([[90,1],[0,100]])\n",
    "showentropy(H)\n",
    "display(CondProb1to2(H),CondProb2to1(H))"
   ]
  },
  {
   "cell_type": "markdown",
   "metadata": {
    "hidden": true
   },
   "source": [
    "### 例"
   ]
  },
  {
   "cell_type": "code",
   "execution_count": null,
   "metadata": {
    "ExecuteTime": {
     "end_time": "2021-06-08T02:37:10.882616Z",
     "start_time": "2021-06-08T02:37:10.858605Z"
    },
    "hidden": true
   },
   "outputs": [],
   "source": [
    "H=np.array([[1,0,1],[0,1,0]])\n",
    "showentropy(H)\n"
   ]
  },
  {
   "cell_type": "code",
   "execution_count": null,
   "metadata": {
    "ExecuteTime": {
     "end_time": "2021-06-08T02:34:24.886359Z",
     "start_time": "2021-06-08T02:34:24.855390Z"
    },
    "hidden": true
   },
   "outputs": [],
   "source": [
    "display(CondProb1to2(H),CondProb2to1(H))"
   ]
  },
  {
   "cell_type": "code",
   "execution_count": null,
   "metadata": {
    "ExecuteTime": {
     "end_time": "2021-06-08T02:37:39.906964Z",
     "start_time": "2021-06-08T02:37:39.885920Z"
    },
    "hidden": true
   },
   "outputs": [],
   "source": [
    "H=np.array([[1,0,1],[0,1,0]])\n",
    "showentropy(H.T)\n"
   ]
  },
  {
   "cell_type": "markdown",
   "metadata": {
    "hidden": true
   },
   "source": [
    "### 例"
   ]
  },
  {
   "cell_type": "code",
   "execution_count": null,
   "metadata": {
    "ExecuteTime": {
     "end_time": "2021-06-08T02:38:25.852099Z",
     "start_time": "2021-06-08T02:38:25.827043Z"
    },
    "hidden": true
   },
   "outputs": [],
   "source": [
    "H=np.array([[4,1],[1,4],[0,5]])\n",
    "showentropy(H)"
   ]
  },
  {
   "cell_type": "code",
   "execution_count": null,
   "metadata": {
    "ExecuteTime": {
     "end_time": "2021-06-08T00:53:38.133211Z",
     "start_time": "2021-06-08T00:53:38.105514Z"
    },
    "hidden": true
   },
   "outputs": [],
   "source": [
    "display(CondProb1to2(H),CondProb2to1(H))"
   ]
  },
  {
   "cell_type": "markdown",
   "metadata": {
    "heading_collapsed": true,
    "hidden": true,
    "toc-hr-collapsed": true
   },
   "source": [
    "## (p,1-p)のエントロピーの観察\n"
   ]
  },
  {
   "cell_type": "markdown",
   "metadata": {
    "hidden": true
   },
   "source": [
    "### グラフ"
   ]
  },
  {
   "cell_type": "code",
   "execution_count": null,
   "metadata": {
    "ExecuteTime": {
     "end_time": "2021-06-08T02:38:46.138173Z",
     "start_time": "2021-06-08T02:38:46.071181Z"
    },
    "hidden": true
   },
   "outputs": [],
   "source": [
    "t=np.linspace(0.01,0.99)\n",
    "df=pd.DataFrame(np.array([t,-(t*np.log2(t)+(1-t)*np.log2(1-t))]).T,columns=[\"p\",\"entropy\"])\n",
    "fig=px.line(df,x=\"p\",y=\"entropy\")\n",
    "fig.update_yaxes(scaleanchor=\"x\", scaleratio=1)\n",
    "fig.update_layout(width=500)"
   ]
  },
  {
   "cell_type": "markdown",
   "metadata": {
    "hidden": true
   },
   "source": [
    "### [1,k]のエントロピー"
   ]
  },
  {
   "cell_type": "code",
   "execution_count": null,
   "metadata": {
    "ExecuteTime": {
     "end_time": "2021-06-08T02:39:22.164381Z",
     "start_time": "2021-06-08T02:39:22.103548Z"
    },
    "hidden": true,
    "scrolled": false
   },
   "outputs": [],
   "source": [
    "px.line(x=range(1,20),y=[entropy([1,k]) for k in range(1,20)])"
   ]
  },
  {
   "cell_type": "markdown",
   "metadata": {
    "hidden": true
   },
   "source": [
    "+ エントロピーが0.3 のとき、すでに[1,18]の偏りであることに注意"
   ]
  },
  {
   "cell_type": "code",
   "execution_count": null,
   "metadata": {
    "ExecuteTime": {
     "end_time": "2021-06-08T02:39:49.431551Z",
     "start_time": "2021-06-08T02:39:49.403707Z"
    },
    "hidden": true
   },
   "outputs": [],
   "source": [
    "pd.DataFrame([[t,entropy([t,1-t])] for t in np.arange(0.00,0.5,0.01)],columns=[\"p\",\"(p,1-p)のエントロピー\"])"
   ]
  },
  {
   "cell_type": "markdown",
   "metadata": {
    "hidden": true
   },
   "source": [
    "### 逆エントロピー"
   ]
  },
  {
   "cell_type": "code",
   "execution_count": null,
   "metadata": {
    "ExecuteTime": {
     "end_time": "2021-06-08T02:40:17.639048Z",
     "start_time": "2021-06-08T02:40:17.632044Z"
    },
    "hidden": true
   },
   "outputs": [],
   "source": [
    "def inventropy(H):\n",
    "    for i in np.arange(1000,1,-1):\n",
    "        if entropy([1,i])>H:\n",
    "            return i"
   ]
  },
  {
   "cell_type": "code",
   "execution_count": null,
   "metadata": {
    "ExecuteTime": {
     "end_time": "2021-06-08T02:40:19.763530Z",
     "start_time": "2021-06-08T02:40:18.096901Z"
    },
    "hidden": true,
    "scrolled": false
   },
   "outputs": [],
   "source": [
    "t=np.arange(0.1,1.0,0.01)\n",
    "s=[inventropy(x) for x in t]\n",
    "df=pd.DataFrame(np.array([t,s]).T,columns=[\"H([1,N])\",\"N\"])\n",
    "px.line(df,x=\"H([1,N])\",y=\"N\")"
   ]
  },
  {
   "cell_type": "markdown",
   "metadata": {
    "heading_collapsed": true,
    "hidden": true,
    "toc-hr-collapsed": true
   },
   "source": [
    "## データフレームの属性のエントロピー"
   ]
  },
  {
   "cell_type": "markdown",
   "metadata": {
    "hidden": true
   },
   "source": [
    "+ データ集合$df$の属性$x$の値が$0,1,\\cdots,k-1$とし、$x=i$となるデータの個数を$n_i$とする.\n",
    "+ このとき、分布$(n_i)_{0\\leq i<k}$のエントロピーを、属性$x$のエントロピーと呼ぶ."
   ]
  },
  {
   "cell_type": "code",
   "execution_count": null,
   "metadata": {
    "ExecuteTime": {
     "end_time": "2021-06-08T02:41:18.661896Z",
     "start_time": "2021-06-08T02:41:18.656570Z"
    },
    "hidden": true
   },
   "outputs": [],
   "source": [
    "def df_entropy(df,x):\n",
    "    u=df.groupby(x).count().values[:,0]\n",
    "    return entropy(u)\n",
    "\n",
    "def df_hist(df,x,values):\n",
    "    return [len(df[df[x]==u]) for u in values]\n",
    "    \n"
   ]
  },
  {
   "cell_type": "markdown",
   "metadata": {
    "hidden": true
   },
   "source": [
    "### 菖データの例　"
   ]
  },
  {
   "cell_type": "code",
   "execution_count": null,
   "metadata": {
    "ExecuteTime": {
     "end_time": "2021-06-08T02:41:21.628770Z",
     "start_time": "2021-06-08T02:41:21.618392Z"
    },
    "hidden": true
   },
   "outputs": [],
   "source": [
    "dfA=mk_ayame()\n",
    "dfA.columns=[0,1,2,3,\"種名\",\"id\"]"
   ]
  },
  {
   "cell_type": "markdown",
   "metadata": {
    "hidden": true
   },
   "source": [
    "+ 菖データでは種属性のエントロピーは$\\log_23$である。"
   ]
  },
  {
   "cell_type": "code",
   "execution_count": null,
   "metadata": {
    "ExecuteTime": {
     "end_time": "2021-06-08T02:41:23.239465Z",
     "start_time": "2021-06-08T02:41:23.227417Z"
    },
    "hidden": true,
    "scrolled": true
   },
   "outputs": [],
   "source": [
    "df_entropy(dfA,\"id\")"
   ]
  },
  {
   "cell_type": "code",
   "execution_count": null,
   "metadata": {
    "ExecuteTime": {
     "end_time": "2021-06-08T02:41:41.526145Z",
     "start_time": "2021-06-08T02:41:41.522710Z"
    },
    "hidden": true
   },
   "outputs": [],
   "source": [
    "df_hist(dfA,\"id\",[1,2,3])"
   ]
  },
  {
   "cell_type": "markdown",
   "metadata": {
    "heading_collapsed": true
   },
   "source": [
    "# 菖データで、属性を二分したときの条件付きエントロピーを求める"
   ]
  },
  {
   "cell_type": "markdown",
   "metadata": {
    "heading_collapsed": true,
    "hidden": true
   },
   "source": [
    "## 第i属性$x_i$を$x_i-t$の正負で二分した情報についての id の条件付きエントロピー"
   ]
  },
  {
   "cell_type": "markdown",
   "metadata": {
    "hidden": true
   },
   "source": [
    "### 関数 mk_table"
   ]
  },
  {
   "cell_type": "markdown",
   "metadata": {
    "hidden": true
   },
   "source": [
    "+ $i$番目の属性値が$t$より大きいとき$Y$,そうでないとき$N$とするDataFrame を作る"
   ]
  },
  {
   "cell_type": "code",
   "execution_count": null,
   "metadata": {
    "ExecuteTime": {
     "end_time": "2021-06-08T02:42:17.357966Z",
     "start_time": "2021-06-08T02:42:17.351173Z"
    },
    "hidden": true
   },
   "outputs": [],
   "source": [
    "def mk_table(dfA,i,t):\n",
    "    dfA[\"hantei\"]=dfA.apply( lambda x: 1 if x[i]>t  else 0,axis=1)\n",
    "    return confusion_matrix(dfA)"
   ]
  },
  {
   "cell_type": "code",
   "execution_count": null,
   "metadata": {
    "ExecuteTime": {
     "end_time": "2021-06-08T02:42:18.521304Z",
     "start_time": "2021-06-08T02:42:18.489970Z"
    },
    "hidden": true
   },
   "outputs": [],
   "source": [
    "mk_table(dfA,0,5)"
   ]
  },
  {
   "cell_type": "code",
   "execution_count": null,
   "metadata": {
    "ExecuteTime": {
     "end_time": "2021-06-08T02:42:35.569974Z",
     "start_time": "2021-06-08T02:42:35.540664Z"
    },
    "hidden": true
   },
   "outputs": [],
   "source": [
    "mk_table(dfA,0,6)"
   ]
  },
  {
   "cell_type": "markdown",
   "metadata": {
    "hidden": true
   },
   "source": [
    "### 関数 cond_entropy"
   ]
  },
  {
   "cell_type": "markdown",
   "metadata": {
    "hidden": true
   },
   "source": [
    "+ df.i > t の真偽に関する id のエントロピー"
   ]
  },
  {
   "cell_type": "code",
   "execution_count": null,
   "metadata": {
    "ExecuteTime": {
     "end_time": "2021-06-08T02:43:13.880193Z",
     "start_time": "2021-06-08T02:43:13.872761Z"
    },
    "hidden": true
   },
   "outputs": [],
   "source": [
    "def cond_entropy(df,i,t):\n",
    "    H=mk_table(df,i,t).values\n",
    "    H=H[:-1,:-1]\n",
    "    return condEntropy2to1(H)\n",
    "\n",
    "# 属性j で条件づけた属性iのエントロピー\n",
    "def cond_entropy_2to1(df,i,j):\n",
    "    H=df[[i,j]]\n",
    "    return condEntropy2to1(H)"
   ]
  },
  {
   "cell_type": "code",
   "execution_count": null,
   "metadata": {
    "ExecuteTime": {
     "end_time": "2021-06-08T02:43:24.931003Z",
     "start_time": "2021-06-08T02:43:24.033271Z"
    },
    "hidden": true
   },
   "outputs": [],
   "source": [
    "import plotly.express as px\n",
    "t=np.linspace(0,10)\n",
    "# fig=px.line(x=t,y=[determinacy(dfA,0,k) for k in t])\n",
    "fig=px.scatter()\n",
    "fig.add_scatter(x=t,y=[cond_entropy(dfA,0,k) for k in t],name=\"id エントピー | 属性0\")\n",
    "fig.add_scatter(x=t,y=[cond_entropy(dfA,1,k) for k in t],name=\"id エントピー | 属性1\")\n",
    "fig.add_scatter(x=t,y=[cond_entropy(dfA,2,k) for k in t],name=\"id エントピー | 属性2\")\n",
    "fig.add_scatter(x=t,y=[cond_entropy(dfA,3,k) for k in t],name=\"id エントピー | 属性3\")\n",
    "fig.show()\n"
   ]
  },
  {
   "cell_type": "markdown",
   "metadata": {
    "heading_collapsed": true,
    "hidden": true
   },
   "source": [
    "## 最も良い判定を与える属性と属性値を求める"
   ]
  },
  {
   "cell_type": "code",
   "execution_count": null,
   "metadata": {
    "ExecuteTime": {
     "end_time": "2021-06-08T02:44:46.350008Z",
     "start_time": "2021-06-08T02:44:44.459775Z"
    },
    "hidden": true
   },
   "outputs": [],
   "source": [
    "for i in range(4):\n",
    "    u=minimize_simple(lambda t: cond_entropy(dfA,i,t),bounds=[0,max(dfA[i])])\n",
    "    print(\"属性{}: 最小残留エントロピー={:3.2f},分岐値={:5.4}\".format(i, u[1],u[0]))"
   ]
  },
  {
   "cell_type": "code",
   "execution_count": null,
   "metadata": {
    "ExecuteTime": {
     "end_time": "2021-06-08T02:45:18.893318Z",
     "start_time": "2021-06-08T02:45:18.849185Z"
    },
    "hidden": true
   },
   "outputs": [],
   "source": [
    "display(mk_table(dfA,2,1.952),mk_table(dfA,3,0.6061))"
   ]
  },
  {
   "cell_type": "markdown",
   "metadata": {
    "hidden": true
   },
   "source": [
    "i=2,3のいずれかが情報量が大きい"
   ]
  },
  {
   "cell_type": "markdown",
   "metadata": {
    "heading_collapsed": true,
    "hidden": true
   },
   "source": [
    "## <font color=\"red\">属性２で判別する</font>"
   ]
  },
  {
   "cell_type": "code",
   "execution_count": null,
   "metadata": {
    "ExecuteTime": {
     "end_time": "2021-06-08T02:46:21.269559Z",
     "start_time": "2021-06-08T02:46:21.239902Z"
    },
    "hidden": true
   },
   "outputs": [],
   "source": [
    "xid=2\n",
    "shikii=1.952\n",
    "\n",
    "dfA[\"hantei\"]=dfA.apply(lambda x: 1 if x[xid] > shikii else 0, axis=1)\n",
    "\n",
    "confusion_matrix(dfA)"
   ]
  },
  {
   "cell_type": "markdown",
   "metadata": {
    "heading_collapsed": true,
    "hidden": true
   },
   "source": [
    "## 決定木の記録"
   ]
  },
  {
   "cell_type": "code",
   "execution_count": null,
   "metadata": {
    "ExecuteTime": {
     "end_time": "2021-06-08T02:46:35.753980Z",
     "start_time": "2021-06-08T02:46:35.729454Z"
    },
    "hidden": true
   },
   "outputs": [],
   "source": [
    "tree=pd.DataFrame([[0,-1,0,[50,50,50],df_entropy(dfA,\"id\"),xid,shikii]],columns=[\"node\",\"boss\",\"branch\",\"bunpu\",\"entropy\",\"var\",\"shikii\"])\n",
    "tree"
   ]
  },
  {
   "cell_type": "code",
   "execution_count": null,
   "metadata": {
    "ExecuteTime": {
     "end_time": "2021-06-08T02:47:49.017354Z",
     "start_time": "2021-06-08T02:47:48.978911Z"
    },
    "hidden": true
   },
   "outputs": [],
   "source": [
    "boss=0\n",
    "for i in range(2):\n",
    "    dftemp=dfA[dfA[\"hantei\"]==1-i]\n",
    "    N=len(tree)\n",
    "    tree.loc[N]=[N,boss,1-i,df_hist(dftemp,\"id\",[1,2,3]),df_entropy(dftemp,\"id\"),0,0]\n",
    "tree"
   ]
  },
  {
   "cell_type": "markdown",
   "metadata": {
    "heading_collapsed": true,
    "hidden": true
   },
   "source": [
    "## <font color=\"red\">entropy が正の場合について同じことを行う</font>"
   ]
  },
  {
   "cell_type": "markdown",
   "metadata": {
    "hidden": true
   },
   "source": [
    "### dfA1 の定義"
   ]
  },
  {
   "cell_type": "code",
   "execution_count": null,
   "metadata": {
    "ExecuteTime": {
     "end_time": "2021-06-08T02:48:26.602233Z",
     "start_time": "2021-06-08T02:48:26.589105Z"
    },
    "hidden": true
   },
   "outputs": [],
   "source": [
    "dfA1=dfA[dfA[\"hantei\"]==1]\n",
    "df_hist(dfA1,\"id\",[1,2,3])"
   ]
  },
  {
   "cell_type": "code",
   "execution_count": null,
   "metadata": {
    "ExecuteTime": {
     "end_time": "2021-06-08T02:48:47.080772Z",
     "start_time": "2021-06-08T02:48:46.321297Z"
    },
    "hidden": true
   },
   "outputs": [],
   "source": [
    "dftemp=dfA1.copy()\n",
    "import plotly.express as px\n",
    "t=np.linspace(0,10)\n",
    "# fig=px.line(x=t,y=[determinacy(dfA,0,k) for k in t])\n",
    "fig=px.scatter()\n",
    "fig.add_scatter(x=t,y=[cond_entropy(dftemp,0,k) for k in t],name=\"0成分残留エントロピー\")\n",
    "fig.add_scatter(x=t,y=[cond_entropy(dftemp,1,k) for k in t],name=\"1成分残留エントロピー\")\n",
    "fig.add_scatter(x=t,y=[cond_entropy(dftemp,2,k) for k in t],name=\"2成分残留エントロピー\")\n",
    "fig.add_scatter(x=t,y=[cond_entropy(dftemp,3,k) for k in t],name=\"3成分残留エントロピー\")\n",
    "fig.show()\n"
   ]
  },
  {
   "cell_type": "code",
   "execution_count": null,
   "metadata": {
    "ExecuteTime": {
     "end_time": "2021-06-08T02:49:10.006848Z",
     "start_time": "2021-06-08T02:49:08.470887Z"
    },
    "hidden": true
   },
   "outputs": [],
   "source": [
    "for i in range(4):\n",
    "    u=minimize_simple(lambda t: cond_entropy(dftemp,i,t),bounds=[0,dftemp[i].max()])\n",
    "    print(\"属性{}: 最小残留エントロピー={:3.2f},分岐値={:5.4f}\".format(i, u[1],u[0]))"
   ]
  },
  {
   "cell_type": "markdown",
   "metadata": {
    "hidden": true
   },
   "source": [
    "### 属性3 について t=1.7 で判別する"
   ]
  },
  {
   "cell_type": "code",
   "execution_count": null,
   "metadata": {
    "ExecuteTime": {
     "end_time": "2021-06-08T02:49:25.508424Z",
     "start_time": "2021-06-08T02:49:25.503648Z"
    },
    "hidden": true
   },
   "outputs": [],
   "source": [
    "xid=3\n",
    "t=1.7172"
   ]
  },
  {
   "cell_type": "code",
   "execution_count": null,
   "metadata": {
    "ExecuteTime": {
     "end_time": "2021-06-08T02:50:07.171303Z",
     "start_time": "2021-06-08T02:50:07.150148Z"
    },
    "hidden": true
   },
   "outputs": [],
   "source": [
    "tree.loc[1,\"var\"]=xid\n",
    "tree.loc[1,\"shikii\"]=t\n",
    "tree"
   ]
  },
  {
   "cell_type": "code",
   "execution_count": null,
   "metadata": {
    "ExecuteTime": {
     "end_time": "2021-06-08T02:50:39.941470Z",
     "start_time": "2021-06-08T02:50:39.924534Z"
    },
    "hidden": true
   },
   "outputs": [],
   "source": [
    "dfA[\"hantei1\"]=dfA[\"hantei\"]\n",
    "dfA[\"hantei\"]=dfA.apply(lambda x: 1 if x[xid]>t else 0,axis=1)\n",
    "dfA[\"hantei2\"]=dfA[\"hantei\"]"
   ]
  },
  {
   "cell_type": "code",
   "execution_count": null,
   "metadata": {
    "ExecuteTime": {
     "end_time": "2021-06-08T02:50:40.916246Z",
     "start_time": "2021-06-08T02:50:40.880473Z"
    },
    "hidden": true
   },
   "outputs": [],
   "source": [
    "confusion_matrix(dfA)"
   ]
  },
  {
   "cell_type": "code",
   "execution_count": null,
   "metadata": {
    "ExecuteTime": {
     "end_time": "2021-06-08T02:51:03.094351Z",
     "start_time": "2021-06-08T02:51:03.061818Z"
    },
    "hidden": true
   },
   "outputs": [],
   "source": [
    "boss=1\n",
    "for i in [1,0]:\n",
    "    N=len(tree)\n",
    "    dftemp=dfA[np.all([dfA[\"hantei1\"]==1,dfA[\"hantei2\"]==i],axis=0)]\n",
    "    tree.loc[N]=[N,boss,i,df_hist(dftemp,\"id\",[1,2,3]),df_entropy(dftemp,\"id\"),0,0]"
   ]
  },
  {
   "cell_type": "code",
   "execution_count": null,
   "metadata": {
    "ExecuteTime": {
     "end_time": "2021-06-08T02:51:03.572634Z",
     "start_time": "2021-06-08T02:51:03.550392Z"
    },
    "hidden": true,
    "scrolled": true
   },
   "outputs": [],
   "source": [
    "tree"
   ]
  },
  {
   "cell_type": "markdown",
   "metadata": {
    "heading_collapsed": true,
    "hidden": true
   },
   "source": [
    "## 以上をまとめる"
   ]
  },
  {
   "cell_type": "code",
   "execution_count": null,
   "metadata": {
    "ExecuteTime": {
     "end_time": "2021-06-08T02:52:23.704283Z",
     "start_time": "2021-06-08T02:52:23.690594Z"
    },
    "hidden": true
   },
   "outputs": [],
   "source": [
    "dfA[\"all\"]=dfA.apply(lambda x: \"1\" if x[\"hantei1\"]==0 else \"01\" if x[\"hantei2\"]==1 else \"00\", axis=1)"
   ]
  },
  {
   "cell_type": "code",
   "execution_count": null,
   "metadata": {
    "ExecuteTime": {
     "end_time": "2021-06-08T02:52:24.910798Z",
     "start_time": "2021-06-08T02:52:24.885317Z"
    },
    "hidden": true
   },
   "outputs": [],
   "source": [
    "H=dfA.groupby([\"id\",\"all\"])[0].count().unstack().fillna(0)\n",
    "display(H)\n",
    "condEntropy2to1(H.values)"
   ]
  },
  {
   "cell_type": "code",
   "execution_count": null,
   "metadata": {
    "ExecuteTime": {
     "end_time": "2021-06-08T02:53:20.805227Z",
     "start_time": "2021-06-08T02:53:20.774713Z"
    },
    "hidden": true
   },
   "outputs": [],
   "source": [
    "pd.DataFrame([[u,len(dfA[dfA[\"all\"]==u]),df_entropy(dfA[dfA[\"all\"]==u],\"id\")] for u in getvalues(dfA,\"all\")],columns=[\"判定\",\"個数\",\"残留エントロピー\"])"
   ]
  },
  {
   "cell_type": "markdown",
   "metadata": {
    "heading_collapsed": true
   },
   "source": [
    "# 演習 wine のデータ"
   ]
  },
  {
   "cell_type": "markdown",
   "metadata": {
    "hidden": true
   },
   "source": [
    "## データ集合 dfwine の定義"
   ]
  },
  {
   "cell_type": "code",
   "execution_count": null,
   "metadata": {
    "ExecuteTime": {
     "end_time": "2021-06-08T02:54:20.982605Z",
     "start_time": "2021-06-08T02:54:20.951388Z"
    },
    "hidden": true
   },
   "outputs": [],
   "source": [
    "from sklearn.datasets import load_wine\n",
    "winedata=load_wine()\n",
    "\n",
    "dfwine=pd.DataFrame(winedata.data)\n",
    "dfwine.columns=winedata.feature_names\n",
    "dfwine[\"id\"]=winedata.target\n",
    "dfwine.columns=list(range(len(dfwine.columns)-1))+[\"id\"]\n",
    "dfwine.head()"
   ]
  },
  {
   "cell_type": "code",
   "execution_count": null,
   "metadata": {
    "ExecuteTime": {
     "end_time": "2021-06-08T02:54:36.945972Z",
     "start_time": "2021-06-08T02:54:36.937447Z"
    },
    "hidden": true
   },
   "outputs": [],
   "source": [
    "len(dfwine)"
   ]
  },
  {
   "cell_type": "markdown",
   "metadata": {
    "hidden": true
   },
   "source": [
    "## 基本的な量"
   ]
  },
  {
   "cell_type": "markdown",
   "metadata": {
    "hidden": true
   },
   "source": [
    "### ワインのクラス"
   ]
  },
  {
   "cell_type": "code",
   "execution_count": null,
   "metadata": {
    "ExecuteTime": {
     "end_time": "2021-06-08T02:54:44.522851Z",
     "start_time": "2021-06-08T02:54:44.516755Z"
    },
    "hidden": true
   },
   "outputs": [],
   "source": [
    "getvalues(dfwine,\"id\")"
   ]
  },
  {
   "cell_type": "markdown",
   "metadata": {
    "hidden": true
   },
   "source": [
    "### クラスのエントロピー"
   ]
  },
  {
   "cell_type": "code",
   "execution_count": null,
   "metadata": {
    "ExecuteTime": {
     "end_time": "2021-06-08T02:54:56.625458Z",
     "start_time": "2021-06-08T02:54:56.614048Z"
    },
    "hidden": true
   },
   "outputs": [],
   "source": [
    "df_entropy(dfwine,\"id\")"
   ]
  },
  {
   "cell_type": "code",
   "execution_count": null,
   "metadata": {
    "ExecuteTime": {
     "end_time": "2021-06-08T02:55:24.844071Z",
     "start_time": "2021-06-08T02:55:24.828939Z"
    },
    "hidden": true
   },
   "outputs": [],
   "source": [
    "df_hist(dfwine,\"id\",[0,1,2])"
   ]
  },
  {
   "cell_type": "markdown",
   "metadata": {
    "hidden": true
   },
   "source": [
    "## 分離属性の探索"
   ]
  },
  {
   "cell_type": "code",
   "execution_count": null,
   "metadata": {
    "ExecuteTime": {
     "end_time": "2021-06-08T02:55:49.242516Z",
     "start_time": "2021-06-08T02:55:46.391586Z"
    },
    "hidden": true
   },
   "outputs": [],
   "source": [
    "import plotly.express as px\n",
    "t=np.linspace(0,10)\n",
    "fig=px.scatter()\n",
    "for i in range(13):\n",
    "    fig.add_scatter(x=t,y=[cond_entropy(dfwine,i,k) for k in t],name=\"id エントピー | 属性{}\".format(i))\n",
    "fig.show()\n"
   ]
  },
  {
   "cell_type": "code",
   "execution_count": null,
   "metadata": {
    "ExecuteTime": {
     "end_time": "2021-06-08T02:56:16.798863Z",
     "start_time": "2021-06-08T02:56:09.972352Z"
    },
    "hidden": true
   },
   "outputs": [],
   "source": [
    "for i in range(13):\n",
    "    u=minimize_simple(lambda t: cond_entropy(dfwine,i,t),bounds=[min(dfwine[i]),max(dfwine[i])])\n",
    "    print(\"属性{}: 最小残留エントロピー={:3.2f},分岐値={:5.4f}\".format(i, u[1],u[0]))"
   ]
  },
  {
   "cell_type": "markdown",
   "metadata": {
    "hidden": true
   },
   "source": [
    "## 課題"
   ]
  },
  {
   "cell_type": "markdown",
   "metadata": {
    "hidden": true
   },
   "source": [
    "+ 属性6 で閾値 1.5848 で　$\\S4.3$と同様のことを行う\n",
    "+ 二分したそれぞれのデータ集合について$\\S4.5$と同様のことを行う"
   ]
  },
  {
   "cell_type": "code",
   "execution_count": null,
   "metadata": {
    "hidden": true
   },
   "outputs": [],
   "source": []
  }
 ],
 "metadata": {
  "kernelspec": {
   "display_name": "Python 3",
   "language": "python",
   "name": "python3"
  },
  "language_info": {
   "codemirror_mode": {
    "name": "ipython",
    "version": 3
   },
   "file_extension": ".py",
   "mimetype": "text/x-python",
   "name": "python",
   "nbconvert_exporter": "python",
   "pygments_lexer": "ipython3",
   "version": "3.8.2"
  },
  "toc": {
   "base_numbering": 1,
   "nav_menu": {},
   "number_sections": true,
   "sideBar": true,
   "skip_h1_title": false,
   "title_cell": "Table of Contents",
   "title_sidebar": "Contents",
   "toc_cell": false,
   "toc_position": {
    "height": "calc(100% - 180px)",
    "left": "10px",
    "top": "150px",
    "width": "240px"
   },
   "toc_section_display": true,
   "toc_window_display": true
  },
  "toc-autonumbering": true
 },
 "nbformat": 4,
 "nbformat_minor": 4
}
